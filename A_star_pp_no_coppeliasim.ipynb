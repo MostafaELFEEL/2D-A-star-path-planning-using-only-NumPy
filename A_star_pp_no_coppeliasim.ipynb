{
 "cells": [
  {
   "cell_type": "code",
   "execution_count": 1,
   "metadata": {},
   "outputs": [],
   "source": [
    "import numpy as np\n",
    "import math"
   ]
  },
  {
   "cell_type": "code",
   "execution_count": 2,
   "metadata": {},
   "outputs": [],
   "source": [
    "class node_class:\n",
    "    def __init__(self, position,g,h,f,parent,Type):\n",
    "        self.parent = parent\n",
    "        self.position = position\n",
    "        self.g =g \n",
    "        self.h =h\n",
    "        self.f =f \n",
    "        self.type=Type"
   ]
  },
  {
   "cell_type": "code",
   "execution_count": 3,
   "metadata": {},
   "outputs": [],
   "source": [
    "def successors(node):\n",
    "    global Map\n",
    "    List_successors=[]\n",
    "    for i in -1,0,1:\n",
    "        for j in -1,0,1:\n",
    "            if Map[node.position[0]+i,node.position[1]+j]>0:\n",
    "                List_successors.append(node_class([node.position[0]+i,node.position[1]+j],None,None,None,node,Map[node.position[0]+i,node.position[1]+j]))\n",
    "    \n",
    "    for node in List_successors:\n",
    "        if node.position==node.parent:\n",
    "            List_successors.remove(node) #remove the node itself\n",
    "    return List_successors"
   ]
  },
  {
   "cell_type": "code",
   "execution_count": 4,
   "metadata": {},
   "outputs": [],
   "source": [
    "class map:\n",
    "    def __init__(self,position,Type):\n",
    "        self.position = position\n",
    "        self.type = Type"
   ]
  },
  {
   "cell_type": "code",
   "execution_count": 5,
   "metadata": {},
   "outputs": [],
   "source": [
    "def distance(node,goal):\n",
    "    return math.dist(node.position,goal.position)"
   ]
  },
  {
   "cell_type": "code",
   "execution_count": 6,
   "metadata": {},
   "outputs": [],
   "source": [
    "def get_minimum(List):\n",
    "    min_f_list=[]\n",
    "    min_value_f=100\n",
    "    min_value_h=100\n",
    "    min_index=0\n",
    "    for i in range(len(List)):\n",
    "        if List[i].f < min_value_f:\n",
    "            min_value_f=List[i].f\n",
    "            min_index = i\n",
    "\n",
    "    for i in range(len(List)):\n",
    "        if List[i].f == min_value_f:\n",
    "            min_f_list.append(i)\n",
    "\n",
    "    for i in min_f_list:\n",
    "        if List[i].h < min_value_h:\n",
    "            min_value_h=List[i].h\n",
    "            min_index = i\n",
    "    return List[min_index],min_index"
   ]
  },
  {
   "cell_type": "code",
   "execution_count": 7,
   "metadata": {},
   "outputs": [],
   "source": [
    "def A_star(start,goal):\n",
    "    open_list = []\n",
    "    closed_list = []\n",
    "    open_list.append(start)\n",
    "\n",
    "    while len(open_list) > 0:\n",
    "        parent,index=get_minimum(open_list)\n",
    "        open_list.pop(index)\n",
    "        childern=successors(parent)\n",
    "\n",
    "        for child in childern:\n",
    "            if child.position == goal.position:\n",
    "                goal.parent=parent\n",
    "                return goal\n",
    "\n",
    "        for child in childern:\n",
    "            g_cost=parent.g+distance(parent,child)\n",
    "            h_cost=distance(child,goal)\n",
    "            f_cost=g_cost+h_cost\n",
    "            child.g=g_cost\n",
    "            child.h=h_cost\n",
    "            child.f=f_cost\n",
    "            flag1=0\n",
    "            flag2=0\n",
    "            for i in range(len(open_list)):\n",
    "                if child.position==open_list[i].position:\n",
    "                    flag1=1\n",
    "                    index1=i\n",
    "                    break\n",
    "            \n",
    "            for i in range(len(closed_list)):\n",
    "                if child.position==closed_list[i].position:\n",
    "                    flag2=1\n",
    "                    index2=i\n",
    "                    break\n",
    "\n",
    "            if(flag2==1):\n",
    "                if(child.f<closed_list[index2].f):\n",
    "                    closed_list[index2]=child\n",
    "            elif(flag1==1):\n",
    "                if(child.f<open_list[index1].f):\n",
    "                    open_list[index1]=child\n",
    "            else:\n",
    "                open_list.append(child) \n",
    "        \n",
    "        closed_list.append(parent)"
   ]
  },
  {
   "cell_type": "code",
   "execution_count": 8,
   "metadata": {},
   "outputs": [],
   "source": [
    "def path_generation(path):\n",
    "    path_list_rev=[]\n",
    "    path_list=[]\n",
    "    while 1:\n",
    "        path_list_rev.append(path.position)\n",
    "        path=path.parent\n",
    "        if path==None:\n",
    "            break\n",
    "\n",
    "    for i in range(len(path_list_rev)):\n",
    "        path_list.append(path_list_rev[len(path_list_rev)-1-i])\n",
    "    return path_list"
   ]
  },
  {
   "cell_type": "code",
   "execution_count": 9,
   "metadata": {},
   "outputs": [],
   "source": [
    "def Draw_Horizontal(Array,Index1,Index2):   #Draws A horizontal Line from index1 to index2\n",
    "\tLocal_Counter = Index1[1]\n",
    "\twhile(Local_Counter <= Index2[1]):\n",
    "\t\tArray[Index1[0],Local_Counter]= 0\n",
    "\t\tLocal_Counter+=1"
   ]
  },
  {
   "cell_type": "code",
   "execution_count": 10,
   "metadata": {},
   "outputs": [],
   "source": [
    "def Draw_Vertical(Array,Index1,Index2):    #Draws A Vertical Line from index1 to index2\n",
    "\tLocal_Counter = Index1[0]\n",
    "\twhile(Local_Counter <= Index2[0]):\n",
    "\t\tArray[Local_Counter,Index1[1]]= 0\n",
    "\t\tLocal_Counter+=1"
   ]
  },
  {
   "cell_type": "code",
   "execution_count": 32,
   "metadata": {},
   "outputs": [],
   "source": [
    "def Draw(Map):    #Draws a Map\n",
    "    draw_counter=0\n",
    "    global x,y\n",
    "    Draw_Horizontal(Map,[0,0],[0,y-1])\n",
    "    Draw_Horizontal(Map,[x-1,0],[x-1,y-1])\n",
    "    Draw_Vertical(Map,[0,0],[x-1,0])\n",
    "    Draw_Vertical(Map,[0,y-1],[x-1,y-1])\n",
    "\n",
    "    #Draw_Horizontal(Map,[2,0],[2,y-3]) ####trial boundaries  <-----------change these\n",
    "    #Draw_Horizontal(Map,[4,2],[4,y-1]) ####trial boundaries      to change bounderies or\n",
    "    #Draw_Horizontal(Map,[6,0],[6,y-3]) ####trial boundaries      add other bounderies as you like.\n",
    "    #Draw_Horizontal(Map,[8,2],[8,y-1]) ####trial boundaries       <------------\n",
    "    #Draw_Vertical(Map,[2,y-3],[6,y-3])\n",
    "    #Draw_Vertical(Map,[0,y-1],[x-1,y-1])\n",
    "    #Draw_Vertical(Map,[4,2],[x-3,2])\n",
    "    "
   ]
  },
  {
   "cell_type": "code",
   "execution_count": 33,
   "metadata": {},
   "outputs": [
    {
     "name": "stdout",
     "output_type": "stream",
     "text": [
      "[[0. 0. 0. 0. 0. 0. 0. 0. 0. 0. 0.]\n",
      " [0. 2. 1. 1. 1. 1. 1. 1. 1. 1. 0.]\n",
      " [0. 1. 1. 1. 1. 1. 1. 1. 1. 1. 0.]\n",
      " [0. 1. 1. 1. 1. 1. 1. 1. 1. 1. 0.]\n",
      " [0. 1. 1. 1. 1. 1. 1. 1. 1. 1. 0.]\n",
      " [0. 1. 1. 1. 1. 1. 1. 1. 1. 1. 0.]\n",
      " [0. 1. 1. 1. 1. 1. 1. 1. 1. 1. 0.]\n",
      " [0. 1. 1. 1. 1. 1. 1. 1. 1. 1. 0.]\n",
      " [0. 1. 1. 1. 1. 1. 1. 1. 1. 1. 0.]\n",
      " [0. 1. 1. 1. 1. 1. 1. 1. 1. 3. 0.]\n",
      " [0. 0. 0. 0. 0. 0. 0. 0. 0. 0. 0.]]\n"
     ]
    }
   ],
   "source": [
    "x = 11      #<-----------------\n",
    "y = 11      #<-----------------\n",
    "start=node_class([1,1],0,0,0,None,2)  #position,g,h,f,parent      #<-----------------\n",
    "goal=node_class([9,9],0,0,0,None,3)               #<-----------------\n",
    "Map = np.ones((x,y))\n",
    "Draw(Map)\n",
    "Map[start.position[0],start.position[1]]=start.type\n",
    "Map[goal.position[0],goal.position[1]]=goal.type\n",
    "print(Map)"
   ]
  },
  {
   "cell_type": "code",
   "execution_count": 34,
   "metadata": {},
   "outputs": [
    {
     "name": "stdout",
     "output_type": "stream",
     "text": [
      "[[ 0.  0.  0.  0.  0.  0.  0.  0.  0.  0.  0.]\n",
      " [ 0.  2.  1.  1.  1.  1.  1.  1.  1.  1.  0.]\n",
      " [ 0.  1. 88.  1.  1.  1.  1.  1.  1.  1.  0.]\n",
      " [ 0.  1.  1. 88.  1.  1.  1.  1.  1.  1.  0.]\n",
      " [ 0.  1.  1.  1. 88.  1.  1.  1.  1.  1.  0.]\n",
      " [ 0.  1.  1.  1.  1. 88.  1.  1.  1.  1.  0.]\n",
      " [ 0.  1.  1.  1.  1.  1. 88.  1.  1.  1.  0.]\n",
      " [ 0.  1.  1.  1.  1.  1.  1. 88.  1.  1.  0.]\n",
      " [ 0.  1.  1.  1.  1.  1.  1.  1. 88.  1.  0.]\n",
      " [ 0.  1.  1.  1.  1.  1.  1.  1.  1.  3.  0.]\n",
      " [ 0.  0.  0.  0.  0.  0.  0.  0.  0.  0.  0.]]\n"
     ]
    }
   ],
   "source": [
    "path = A_star(start,goal)\n",
    "final_path=path_generation(path)\n",
    "final_path.pop(0)\n",
    "final_path.pop(-1)\n",
    "for i in final_path:\n",
    "\tMap[i[0],i[1]]=88\n",
    "\n",
    "print(Map)"
   ]
  }
 ],
 "metadata": {
  "kernelspec": {
   "display_name": "Python 3 (ipykernel)",
   "language": "python",
   "name": "python3"
  },
  "language_info": {
   "codemirror_mode": {
    "name": "ipython",
    "version": 3
   },
   "file_extension": ".py",
   "mimetype": "text/x-python",
   "name": "python",
   "nbconvert_exporter": "python",
   "pygments_lexer": "ipython3",
   "version": "3.9.12"
  },
  "vscode": {
   "interpreter": {
    "hash": "cf0b053ec60c51acbf9b234663d2a94147f1419af99fefc5982f553fc46997b4"
   }
  }
 },
 "nbformat": 4,
 "nbformat_minor": 4
}
